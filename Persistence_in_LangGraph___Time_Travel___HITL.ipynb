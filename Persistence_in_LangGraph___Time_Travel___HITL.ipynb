{
  "nbformat": 4,
  "nbformat_minor": 0,
  "metadata": {
    "colab": {
      "provenance": []
    },
    "kernelspec": {
      "name": "python3",
      "display_name": "Python 3"
    },
    "language_info": {
      "name": "python"
    }
  },
  "cells": [
    {
      "cell_type": "code",
      "execution_count": 2,
      "metadata": {
        "id": "R-KDUZaGZt91"
      },
      "outputs": [],
      "source": [
        "from langgraph.graph import START, StateGraph, END\n",
        "from typing import Annotated, TypedDict\n",
        "from langchain_openai import ChatOpenAI\n",
        "from langgraph.checkpoint.memory import InMemorySaver"
      ]
    },
    {
      "cell_type": "code",
      "source": [
        "from google.colab import userdata\n",
        "api = userdata.get('OPEN_AI')"
      ],
      "metadata": {
        "id": "fIjUrSsFZxAP"
      },
      "execution_count": 4,
      "outputs": []
    },
    {
      "cell_type": "code",
      "source": [
        "llm = ChatOpenAI(api_key=api)"
      ],
      "metadata": {
        "id": "_Z4y5ltdZw-A"
      },
      "execution_count": 5,
      "outputs": []
    },
    {
      "cell_type": "code",
      "source": [
        "# Define State\n",
        "class JokeState(TypedDict):\n",
        "  topic: str\n",
        "  joke: str\n",
        "  explanation: str"
      ],
      "metadata": {
        "id": "k40FJTnkZw8C"
      },
      "execution_count": 6,
      "outputs": []
    },
    {
      "cell_type": "code",
      "source": [
        "# Define Nodes\n",
        "def generate_joke(state: JokeState):\n",
        "  prompt = f\"Generate a concise joke on the following topic: \\n\\n {state['topic']}\"\n",
        "  response = llm.invoke(prompt)\n",
        "  return {'joke': response.content}\n",
        "\n",
        "\n",
        "def generate_explanation(state: JokeState):\n",
        "  prompt = f\"Generate a concise explanation of the following joke: {state['joke']}\"\n",
        "  response = llm.invoke(prompt)\n",
        "  return {'explanation': response.content}"
      ],
      "metadata": {
        "id": "nS0jmSx7Zw6K"
      },
      "execution_count": 7,
      "outputs": []
    },
    {
      "cell_type": "code",
      "source": [
        "# Implement Persistence\n",
        "checkpointer = InMemorySaver()"
      ],
      "metadata": {
        "id": "47ISjxg1fG2R"
      },
      "execution_count": 13,
      "outputs": []
    },
    {
      "cell_type": "code",
      "source": [
        "# Define Workflow\n",
        "graph = StateGraph(JokeState)\n",
        "\n",
        "graph.add_node('generate_joke', generate_joke)\n",
        "graph.add_node('generate_explanation', generate_explanation)\n",
        "\n",
        "graph.add_edge(START, 'generate_joke')\n",
        "graph.add_edge('generate_joke', 'generate_explanation')\n",
        "graph.add_edge('generate_explanation', END)\n",
        "\n",
        "workflow = graph.compile(checkpointer=checkpointer)"
      ],
      "metadata": {
        "id": "sYxABlDSZw3X"
      },
      "execution_count": 14,
      "outputs": []
    },
    {
      "cell_type": "code",
      "source": [
        "# We will use threadID here which acts like a primary key to store conversations in database\n",
        "initial_state = {'topic': 'Seattle'}"
      ],
      "metadata": {
        "id": "cjS3bQPJZw1P"
      },
      "execution_count": 15,
      "outputs": []
    },
    {
      "cell_type": "code",
      "source": [
        "# These enable different coversations\n",
        "config1 = {'configurable': {'thread_id': '1'}}\n",
        "config2 = {'configurable': {'thread_id': '2'}}"
      ],
      "metadata": {
        "id": "cDqMrpP7fc6i"
      },
      "execution_count": 18,
      "outputs": []
    },
    {
      "cell_type": "code",
      "source": [
        "# Executing workflow and tagging it with thread id\n",
        "workflow.invoke({'topic': 'Seattle'}, config=config1)"
      ],
      "metadata": {
        "colab": {
          "base_uri": "https://localhost:8080/"
        },
        "id": "XWibdFPDf7wa",
        "outputId": "5c3b5e55-d573-450e-95c7-35a34267feb7"
      },
      "execution_count": 19,
      "outputs": [
        {
          "output_type": "execute_result",
          "data": {
            "text/plain": [
              "{'topic': 'Seattle',\n",
              " 'joke': 'Why do Seattleites always carry an umbrella? \\n\\nIn case it drizzles!',\n",
              " 'explanation': \"This joke plays on the reputation of Seattle for frequent rain and drizzle. The punchline suggests that Seattleites always carry an umbrella in case there is even a slight drizzle, highlighting the stereotype of their affinity for umbrellas due to the city's notoriously rainy weather.\"}"
            ]
          },
          "metadata": {},
          "execution_count": 19
        }
      ]
    },
    {
      "cell_type": "code",
      "source": [
        "workflow.get_state(config=config1)"
      ],
      "metadata": {
        "colab": {
          "base_uri": "https://localhost:8080/"
        },
        "id": "I23naoYUf7tm",
        "outputId": "9f37128d-9f85-4e69-f7ed-c8e437b42cc8"
      },
      "execution_count": 20,
      "outputs": [
        {
          "output_type": "execute_result",
          "data": {
            "text/plain": [
              "StateSnapshot(values={'topic': 'Seattle', 'joke': 'Why do Seattleites always carry an umbrella? \\n\\nIn case it drizzles!', 'explanation': \"This joke plays on the reputation of Seattle for frequent rain and drizzle. The punchline suggests that Seattleites always carry an umbrella in case there is even a slight drizzle, highlighting the stereotype of their affinity for umbrellas due to the city's notoriously rainy weather.\"}, next=(), config={'configurable': {'thread_id': '1', 'checkpoint_ns': '', 'checkpoint_id': '1f072ee1-0b90-6b98-8002-dc843f61d99f'}}, metadata={'source': 'loop', 'step': 2, 'parents': {}}, created_at='2025-08-06T17:52:05.683058+00:00', parent_config={'configurable': {'thread_id': '1', 'checkpoint_ns': '', 'checkpoint_id': '1f072ee1-0452-6ac3-8001-0bb9bf54f94c'}}, tasks=(), interrupts=())"
            ]
          },
          "metadata": {},
          "execution_count": 20
        }
      ]
    },
    {
      "cell_type": "code",
      "source": [
        "list(workflow.get_state_history(config=config1))"
      ],
      "metadata": {
        "colab": {
          "base_uri": "https://localhost:8080/"
        },
        "id": "hx8zuEJ2f7rd",
        "outputId": "96ce5382-fc43-4176-83bb-0d97e30dfff0"
      },
      "execution_count": 22,
      "outputs": [
        {
          "output_type": "execute_result",
          "data": {
            "text/plain": [
              "[StateSnapshot(values={'topic': 'Seattle', 'joke': 'Why do Seattleites always carry an umbrella? \\n\\nIn case it drizzles!', 'explanation': \"This joke plays on the reputation of Seattle for frequent rain and drizzle. The punchline suggests that Seattleites always carry an umbrella in case there is even a slight drizzle, highlighting the stereotype of their affinity for umbrellas due to the city's notoriously rainy weather.\"}, next=(), config={'configurable': {'thread_id': '1', 'checkpoint_ns': '', 'checkpoint_id': '1f072ee1-0b90-6b98-8002-dc843f61d99f'}}, metadata={'source': 'loop', 'step': 2, 'parents': {}}, created_at='2025-08-06T17:52:05.683058+00:00', parent_config={'configurable': {'thread_id': '1', 'checkpoint_ns': '', 'checkpoint_id': '1f072ee1-0452-6ac3-8001-0bb9bf54f94c'}}, tasks=(), interrupts=()),\n",
              " StateSnapshot(values={'topic': 'Seattle', 'joke': 'Why do Seattleites always carry an umbrella? \\n\\nIn case it drizzles!'}, next=('generate_explanation',), config={'configurable': {'thread_id': '1', 'checkpoint_ns': '', 'checkpoint_id': '1f072ee1-0452-6ac3-8001-0bb9bf54f94c'}}, metadata={'source': 'loop', 'step': 1, 'parents': {}}, created_at='2025-08-06T17:52:04.923639+00:00', parent_config={'configurable': {'thread_id': '1', 'checkpoint_ns': '', 'checkpoint_id': '1f072ee0-f9bb-6141-8000-556ebf8462e3'}}, tasks=(PregelTask(id='1bd98bcb-ecaf-d252-259a-c43ffb307ff4', name='generate_explanation', path=('__pregel_pull', 'generate_explanation'), error=None, interrupts=(), state=None, result={'explanation': \"This joke plays on the reputation of Seattle for frequent rain and drizzle. The punchline suggests that Seattleites always carry an umbrella in case there is even a slight drizzle, highlighting the stereotype of their affinity for umbrellas due to the city's notoriously rainy weather.\"}),), interrupts=()),\n",
              " StateSnapshot(values={'topic': 'Seattle'}, next=('generate_joke',), config={'configurable': {'thread_id': '1', 'checkpoint_ns': '', 'checkpoint_id': '1f072ee0-f9bb-6141-8000-556ebf8462e3'}}, metadata={'source': 'loop', 'step': 0, 'parents': {}}, created_at='2025-08-06T17:52:03.812975+00:00', parent_config={'configurable': {'thread_id': '1', 'checkpoint_ns': '', 'checkpoint_id': '1f072ee0-f9b6-6f42-bfff-d14fc2f20ace'}}, tasks=(PregelTask(id='9570b3ae-0d4b-f26c-3c2d-90b621e761c0', name='generate_joke', path=('__pregel_pull', 'generate_joke'), error=None, interrupts=(), state=None, result={'joke': 'Why do Seattleites always carry an umbrella? \\n\\nIn case it drizzles!'}),), interrupts=()),\n",
              " StateSnapshot(values={}, next=('__start__',), config={'configurable': {'thread_id': '1', 'checkpoint_ns': '', 'checkpoint_id': '1f072ee0-f9b6-6f42-bfff-d14fc2f20ace'}}, metadata={'source': 'input', 'step': -1, 'parents': {}}, created_at='2025-08-06T17:52:03.811295+00:00', parent_config=None, tasks=(PregelTask(id='ad805b54-37ca-a77a-d9ed-b0a1f4e402b2', name='__start__', path=('__pregel_pull', '__start__'), error=None, interrupts=(), state=None, result={'topic': 'Seattle'}),), interrupts=())]"
            ]
          },
          "metadata": {},
          "execution_count": 22
        }
      ]
    },
    {
      "cell_type": "code",
      "source": [
        "# Starting conversation using a different thread id\n",
        "\n",
        "\n",
        "workflow.invoke({'topic': 'Paris'}, config=config2)"
      ],
      "metadata": {
        "colab": {
          "base_uri": "https://localhost:8080/"
        },
        "id": "mJn-Hchxf7pI",
        "outputId": "5a8c58cc-1339-44ec-b2ea-3971f69e4ce7"
      },
      "execution_count": 23,
      "outputs": [
        {
          "output_type": "execute_result",
          "data": {
            "text/plain": [
              "{'topic': 'Paris',\n",
              " 'joke': \"Why did the French chef only use fresh ingredients in Paris? \\n\\nBecause he couldn't find thyme to kill!\",\n",
              " 'explanation': 'This joke is a play on words, combining the French word for time, \"temps,\" with the English word for the herb thyme. The chef in Paris only used fresh ingredients because he couldn\\'t find the time (thyme) to kill.'}"
            ]
          },
          "metadata": {},
          "execution_count": 23
        }
      ]
    },
    {
      "cell_type": "code",
      "source": [
        "list(workflow.get_state_history(config=config2))"
      ],
      "metadata": {
        "colab": {
          "base_uri": "https://localhost:8080/"
        },
        "id": "vdqT74kjhWwI",
        "outputId": "e1fa5dd5-fa6c-4800-dbd9-1180b7a801a7"
      },
      "execution_count": 25,
      "outputs": [
        {
          "output_type": "execute_result",
          "data": {
            "text/plain": [
              "[StateSnapshot(values={'topic': 'Paris', 'joke': \"Why did the French chef only use fresh ingredients in Paris? \\n\\nBecause he couldn't find thyme to kill!\", 'explanation': 'This joke is a play on words, combining the French word for time, \"temps,\" with the English word for the herb thyme. The chef in Paris only used fresh ingredients because he couldn\\'t find the time (thyme) to kill.'}, next=(), config={'configurable': {'thread_id': '2', 'checkpoint_ns': '', 'checkpoint_id': '1f072ee6-f28a-64c9-8002-16b94a716104'}}, metadata={'source': 'loop', 'step': 2, 'parents': {}}, created_at='2025-08-06T17:54:44.120257+00:00', parent_config={'configurable': {'thread_id': '2', 'checkpoint_ns': '', 'checkpoint_id': '1f072ee6-e8ea-67ab-8001-2481f16a1738'}}, tasks=(), interrupts=()),\n",
              " StateSnapshot(values={'topic': 'Paris', 'joke': \"Why did the French chef only use fresh ingredients in Paris? \\n\\nBecause he couldn't find thyme to kill!\"}, next=('generate_explanation',), config={'configurable': {'thread_id': '2', 'checkpoint_ns': '', 'checkpoint_id': '1f072ee6-e8ea-67ab-8001-2481f16a1738'}}, metadata={'source': 'loop', 'step': 1, 'parents': {}}, created_at='2025-08-06T17:54:43.111079+00:00', parent_config={'configurable': {'thread_id': '2', 'checkpoint_ns': '', 'checkpoint_id': '1f072ee6-de19-6957-8000-6d7b97fc11de'}}, tasks=(PregelTask(id='bb045b8b-346d-3660-ab91-e3e2435803b0', name='generate_explanation', path=('__pregel_pull', 'generate_explanation'), error=None, interrupts=(), state=None, result={'explanation': 'This joke is a play on words, combining the French word for time, \"temps,\" with the English word for the herb thyme. The chef in Paris only used fresh ingredients because he couldn\\'t find the time (thyme) to kill.'}),), interrupts=()),\n",
              " StateSnapshot(values={'topic': 'Paris'}, next=('generate_joke',), config={'configurable': {'thread_id': '2', 'checkpoint_ns': '', 'checkpoint_id': '1f072ee6-de19-6957-8000-6d7b97fc11de'}}, metadata={'source': 'loop', 'step': 0, 'parents': {}}, created_at='2025-08-06T17:54:41.976947+00:00', parent_config={'configurable': {'thread_id': '2', 'checkpoint_ns': '', 'checkpoint_id': '1f072ee6-de16-6054-bfff-40267f49ffcc'}}, tasks=(PregelTask(id='9c454bbf-12d1-6c9e-c2fb-cd0358ccdb16', name='generate_joke', path=('__pregel_pull', 'generate_joke'), error=None, interrupts=(), state=None, result={'joke': \"Why did the French chef only use fresh ingredients in Paris? \\n\\nBecause he couldn't find thyme to kill!\"}),), interrupts=()),\n",
              " StateSnapshot(values={}, next=('__start__',), config={'configurable': {'thread_id': '2', 'checkpoint_ns': '', 'checkpoint_id': '1f072ee6-de16-6054-bfff-40267f49ffcc'}}, metadata={'source': 'input', 'step': -1, 'parents': {}}, created_at='2025-08-06T17:54:41.975498+00:00', parent_config=None, tasks=(PregelTask(id='f62e5651-a5aa-be23-248a-c574dfd56728', name='__start__', path=('__pregel_pull', '__start__'), error=None, interrupts=(), state=None, result={'topic': 'Paris'}),), interrupts=())]"
            ]
          },
          "metadata": {},
          "execution_count": 25
        }
      ]
    },
    {
      "cell_type": "markdown",
      "source": [
        "## **Time Travel**"
      ],
      "metadata": {
        "id": "ixAGfqwertt5"
      }
    },
    {
      "cell_type": "code",
      "source": [
        "# I want to go back to the state where I had the topic but no joke generated\n",
        "list(workflow.get_state_history(config2))"
      ],
      "metadata": {
        "colab": {
          "base_uri": "https://localhost:8080/"
        },
        "id": "Dgt0MnL1rsn2",
        "outputId": "4e83c059-966c-4ee7-c991-145e9f711e57"
      },
      "execution_count": 27,
      "outputs": [
        {
          "output_type": "execute_result",
          "data": {
            "text/plain": [
              "[StateSnapshot(values={'topic': 'Paris', 'joke': \"Why did the French chef only use fresh ingredients in Paris? \\n\\nBecause he couldn't find thyme to kill!\", 'explanation': 'This joke is a play on words, combining the French word for time, \"temps,\" with the English word for the herb thyme. The chef in Paris only used fresh ingredients because he couldn\\'t find the time (thyme) to kill.'}, next=(), config={'configurable': {'thread_id': '2', 'checkpoint_ns': '', 'checkpoint_id': '1f072ee6-f28a-64c9-8002-16b94a716104'}}, metadata={'source': 'loop', 'step': 2, 'parents': {}}, created_at='2025-08-06T17:54:44.120257+00:00', parent_config={'configurable': {'thread_id': '2', 'checkpoint_ns': '', 'checkpoint_id': '1f072ee6-e8ea-67ab-8001-2481f16a1738'}}, tasks=(), interrupts=()),\n",
              " StateSnapshot(values={'topic': 'Paris', 'joke': \"Why did the French chef only use fresh ingredients in Paris? \\n\\nBecause he couldn't find thyme to kill!\"}, next=('generate_explanation',), config={'configurable': {'thread_id': '2', 'checkpoint_ns': '', 'checkpoint_id': '1f072ee6-e8ea-67ab-8001-2481f16a1738'}}, metadata={'source': 'loop', 'step': 1, 'parents': {}}, created_at='2025-08-06T17:54:43.111079+00:00', parent_config={'configurable': {'thread_id': '2', 'checkpoint_ns': '', 'checkpoint_id': '1f072ee6-de19-6957-8000-6d7b97fc11de'}}, tasks=(PregelTask(id='bb045b8b-346d-3660-ab91-e3e2435803b0', name='generate_explanation', path=('__pregel_pull', 'generate_explanation'), error=None, interrupts=(), state=None, result={'explanation': 'This joke is a play on words, combining the French word for time, \"temps,\" with the English word for the herb thyme. The chef in Paris only used fresh ingredients because he couldn\\'t find the time (thyme) to kill.'}),), interrupts=()),\n",
              " StateSnapshot(values={'topic': 'Paris'}, next=('generate_joke',), config={'configurable': {'thread_id': '2', 'checkpoint_ns': '', 'checkpoint_id': '1f072ee6-de19-6957-8000-6d7b97fc11de'}}, metadata={'source': 'loop', 'step': 0, 'parents': {}}, created_at='2025-08-06T17:54:41.976947+00:00', parent_config={'configurable': {'thread_id': '2', 'checkpoint_ns': '', 'checkpoint_id': '1f072ee6-de16-6054-bfff-40267f49ffcc'}}, tasks=(PregelTask(id='9c454bbf-12d1-6c9e-c2fb-cd0358ccdb16', name='generate_joke', path=('__pregel_pull', 'generate_joke'), error=None, interrupts=(), state=None, result={'joke': \"Why did the French chef only use fresh ingredients in Paris? \\n\\nBecause he couldn't find thyme to kill!\"}),), interrupts=()),\n",
              " StateSnapshot(values={}, next=('__start__',), config={'configurable': {'thread_id': '2', 'checkpoint_ns': '', 'checkpoint_id': '1f072ee6-de16-6054-bfff-40267f49ffcc'}}, metadata={'source': 'input', 'step': -1, 'parents': {}}, created_at='2025-08-06T17:54:41.975498+00:00', parent_config=None, tasks=(PregelTask(id='f62e5651-a5aa-be23-248a-c574dfd56728', name='__start__', path=('__pregel_pull', '__start__'), error=None, interrupts=(), state=None, result={'topic': 'Paris'}),), interrupts=())]"
            ]
          },
          "metadata": {},
          "execution_count": 27
        }
      ]
    },
    {
      "cell_type": "code",
      "source": [
        "list(workflow.get_state_history(config={'configurable': {'thread_id': '2', 'checkpoint_id':'1f072ee6-de19-6957-8000-6d7b97fc11de'}}))"
      ],
      "metadata": {
        "colab": {
          "base_uri": "https://localhost:8080/"
        },
        "id": "VDe1ebHvrslz",
        "outputId": "674586c4-9214-43c3-ceb9-12808626633b"
      },
      "execution_count": 29,
      "outputs": [
        {
          "output_type": "execute_result",
          "data": {
            "text/plain": [
              "[StateSnapshot(values={'topic': 'Paris'}, next=('generate_joke',), config={'configurable': {'thread_id': '2', 'checkpoint_ns': '', 'checkpoint_id': '1f072ee6-de19-6957-8000-6d7b97fc11de'}}, metadata={'source': 'loop', 'step': 0, 'parents': {}}, created_at='2025-08-06T17:54:41.976947+00:00', parent_config={'configurable': {'thread_id': '2', 'checkpoint_ns': '', 'checkpoint_id': '1f072ee6-de16-6054-bfff-40267f49ffcc'}}, tasks=(PregelTask(id='9c454bbf-12d1-6c9e-c2fb-cd0358ccdb16', name='generate_joke', path=('__pregel_pull', 'generate_joke'), error=None, interrupts=(), state=None, result={'joke': \"Why did the French chef only use fresh ingredients in Paris? \\n\\nBecause he couldn't find thyme to kill!\"}),), interrupts=())]"
            ]
          },
          "metadata": {},
          "execution_count": 29
        }
      ]
    },
    {
      "cell_type": "code",
      "source": [
        "# Let's start the execution from this checkpoint again\n",
        "workflow.invoke(None, config={'configurable': {'thread_id': '2', 'checkpoint_id':'1f072ee6-de19-6957-8000-6d7b97fc11de'}})"
      ],
      "metadata": {
        "colab": {
          "base_uri": "https://localhost:8080/"
        },
        "id": "hhvV4ZgJrskL",
        "outputId": "7199fbbc-4df9-4892-e5fb-4b7f59b56e4f"
      },
      "execution_count": 30,
      "outputs": [
        {
          "output_type": "execute_result",
          "data": {
            "text/plain": [
              "{'topic': 'Paris',\n",
              " 'joke': \"Why did the Eiffel Tower break up with Paris? Because it couldn't handle the long-distance relationship!\",\n",
              " 'explanation': 'The joke plays on the idea of the Eiffel Tower being in a relationship with the city of Paris due to their strong association. The punchline humorously suggests that the Eiffel Tower \"broke up\" with Paris because it couldn\\'t physically handle the distance as it is a prominent landmark in the city.'}"
            ]
          },
          "metadata": {},
          "execution_count": 30
        }
      ]
    },
    {
      "cell_type": "code",
      "source": [
        "# We get two new states appended\n",
        "list(workflow.get_state_history(config2))"
      ],
      "metadata": {
        "colab": {
          "base_uri": "https://localhost:8080/"
        },
        "id": "PSRvpFInrshM",
        "outputId": "e347a580-6406-4e79-bf91-fb0b577cded4"
      },
      "execution_count": 33,
      "outputs": [
        {
          "output_type": "execute_result",
          "data": {
            "text/plain": [
              "[StateSnapshot(values={'topic': 'Paris', 'joke': \"Why did the Eiffel Tower break up with Paris? Because it couldn't handle the long-distance relationship!\", 'explanation': 'The joke plays on the idea of the Eiffel Tower being in a relationship with the city of Paris due to their strong association. The punchline humorously suggests that the Eiffel Tower \"broke up\" with Paris because it couldn\\'t physically handle the distance as it is a prominent landmark in the city.'}, next=(), config={'configurable': {'thread_id': '2', 'checkpoint_ns': '', 'checkpoint_id': '1f072f5f-affa-62e1-8002-cea15d4a37c6'}}, metadata={'source': 'loop', 'step': 2, 'parents': {}}, created_at='2025-08-06T18:48:45.209648+00:00', parent_config={'configurable': {'thread_id': '2', 'checkpoint_ns': '', 'checkpoint_id': '1f072f5f-92e9-65b5-8001-008c6f33b2a2'}}, tasks=(), interrupts=()),\n",
              " StateSnapshot(values={'topic': 'Paris', 'joke': \"Why did the Eiffel Tower break up with Paris? Because it couldn't handle the long-distance relationship!\"}, next=('generate_explanation',), config={'configurable': {'thread_id': '2', 'checkpoint_ns': '', 'checkpoint_id': '1f072f5f-92e9-65b5-8001-008c6f33b2a2'}}, metadata={'source': 'loop', 'step': 1, 'parents': {}}, created_at='2025-08-06T18:48:42.161887+00:00', parent_config={'configurable': {'thread_id': '2', 'checkpoint_ns': '', 'checkpoint_id': '1f072ee6-de19-6957-8000-6d7b97fc11de'}}, tasks=(PregelTask(id='53cd60a5-8ae4-20a4-ee65-69f6b6273efe', name='generate_explanation', path=('__pregel_pull', 'generate_explanation'), error=None, interrupts=(), state=None, result={'explanation': 'The joke plays on the idea of the Eiffel Tower being in a relationship with the city of Paris due to their strong association. The punchline humorously suggests that the Eiffel Tower \"broke up\" with Paris because it couldn\\'t physically handle the distance as it is a prominent landmark in the city.'}),), interrupts=()),\n",
              " StateSnapshot(values={'topic': 'Paris', 'joke': \"Why did the French chef only use fresh ingredients in Paris? \\n\\nBecause he couldn't find thyme to kill!\", 'explanation': 'This joke is a play on words, combining the French word for time, \"temps,\" with the English word for the herb thyme. The chef in Paris only used fresh ingredients because he couldn\\'t find the time (thyme) to kill.'}, next=(), config={'configurable': {'thread_id': '2', 'checkpoint_ns': '', 'checkpoint_id': '1f072ee6-f28a-64c9-8002-16b94a716104'}}, metadata={'source': 'loop', 'step': 2, 'parents': {}}, created_at='2025-08-06T17:54:44.120257+00:00', parent_config={'configurable': {'thread_id': '2', 'checkpoint_ns': '', 'checkpoint_id': '1f072ee6-e8ea-67ab-8001-2481f16a1738'}}, tasks=(), interrupts=()),\n",
              " StateSnapshot(values={'topic': 'Paris', 'joke': \"Why did the French chef only use fresh ingredients in Paris? \\n\\nBecause he couldn't find thyme to kill!\"}, next=('generate_explanation',), config={'configurable': {'thread_id': '2', 'checkpoint_ns': '', 'checkpoint_id': '1f072ee6-e8ea-67ab-8001-2481f16a1738'}}, metadata={'source': 'loop', 'step': 1, 'parents': {}}, created_at='2025-08-06T17:54:43.111079+00:00', parent_config={'configurable': {'thread_id': '2', 'checkpoint_ns': '', 'checkpoint_id': '1f072ee6-de19-6957-8000-6d7b97fc11de'}}, tasks=(PregelTask(id='bb045b8b-346d-3660-ab91-e3e2435803b0', name='generate_explanation', path=('__pregel_pull', 'generate_explanation'), error=None, interrupts=(), state=None, result={'explanation': 'This joke is a play on words, combining the French word for time, \"temps,\" with the English word for the herb thyme. The chef in Paris only used fresh ingredients because he couldn\\'t find the time (thyme) to kill.'}),), interrupts=()),\n",
              " StateSnapshot(values={'topic': 'Paris'}, next=('generate_joke',), config={'configurable': {'thread_id': '2', 'checkpoint_ns': '', 'checkpoint_id': '1f072ee6-de19-6957-8000-6d7b97fc11de'}}, metadata={'source': 'loop', 'step': 0, 'parents': {}}, created_at='2025-08-06T17:54:41.976947+00:00', parent_config={'configurable': {'thread_id': '2', 'checkpoint_ns': '', 'checkpoint_id': '1f072ee6-de16-6054-bfff-40267f49ffcc'}}, tasks=(PregelTask(id='9c454bbf-12d1-6c9e-c2fb-cd0358ccdb16', name='generate_joke', path=('__pregel_pull', 'generate_joke'), error=None, interrupts=(), state=None, result={'joke': \"Why did the French chef only use fresh ingredients in Paris? \\n\\nBecause he couldn't find thyme to kill!\"}),), interrupts=()),\n",
              " StateSnapshot(values={}, next=('__start__',), config={'configurable': {'thread_id': '2', 'checkpoint_ns': '', 'checkpoint_id': '1f072ee6-de16-6054-bfff-40267f49ffcc'}}, metadata={'source': 'input', 'step': -1, 'parents': {}}, created_at='2025-08-06T17:54:41.975498+00:00', parent_config=None, tasks=(PregelTask(id='f62e5651-a5aa-be23-248a-c574dfd56728', name='__start__', path=('__pregel_pull', '__start__'), error=None, interrupts=(), state=None, result={'topic': 'Paris'}),), interrupts=())]"
            ]
          },
          "metadata": {},
          "execution_count": 33
        }
      ]
    },
    {
      "cell_type": "code",
      "source": [
        "workflow.update_state({\"configurable\": {\"thread_id\": \"2\", \"checkpoint_id\": \"1f072ee6-de19-6957-8000-6d7b97fc11de\", \"checkpoint_ns\": \"\"}}, {'topic':'Bubble tea'})"
      ],
      "metadata": {
        "colab": {
          "base_uri": "https://localhost:8080/"
        },
        "id": "MgHYmjg7rsdR",
        "outputId": "d9718b99-2c33-4250-cdb9-b518b379c71c"
      },
      "execution_count": 45,
      "outputs": [
        {
          "output_type": "execute_result",
          "data": {
            "text/plain": [
              "{'configurable': {'thread_id': '2',\n",
              "  'checkpoint_ns': '',\n",
              "  'checkpoint_id': '1f072f81-584c-6416-8001-6f091248a0a4'}}"
            ]
          },
          "metadata": {},
          "execution_count": 45
        }
      ]
    },
    {
      "cell_type": "code",
      "source": [
        "list(workflow.get_state_history(config2))"
      ],
      "metadata": {
        "colab": {
          "base_uri": "https://localhost:8080/"
        },
        "id": "s40IRn8TrsaY",
        "outputId": "029dc4f3-723f-4694-cd95-023814389e02"
      },
      "execution_count": 46,
      "outputs": [
        {
          "output_type": "execute_result",
          "data": {
            "text/plain": [
              "[StateSnapshot(values={'topic': 'Bubble tea'}, next=('generate_joke',), config={'configurable': {'thread_id': '2', 'checkpoint_ns': '', 'checkpoint_id': '1f072f81-584c-6416-8001-6f091248a0a4'}}, metadata={'source': 'update', 'step': 1, 'parents': {}}, created_at='2025-08-06T19:03:48.696353+00:00', parent_config={'configurable': {'thread_id': '2', 'checkpoint_ns': '', 'checkpoint_id': '1f072ee6-de19-6957-8000-6d7b97fc11de'}}, tasks=(PregelTask(id='49f09da1-0c11-adef-5b2a-caf154c5cd1f', name='generate_joke', path=('__pregel_pull', 'generate_joke'), error=None, interrupts=(), state=None, result=None),), interrupts=()),\n",
              " StateSnapshot(values={'topic': 'samosa'}, next=('generate_joke',), config={'configurable': {'thread_id': '2', 'checkpoint_ns': '', 'checkpoint_id': '1f072f7f-4c89-6c77-8001-25e7862d81e0'}}, metadata={'source': 'update', 'step': 1, 'parents': {}}, created_at='2025-08-06T19:02:53.776173+00:00', parent_config={'configurable': {'thread_id': '2', 'checkpoint_ns': '', 'checkpoint_id': '1f072ee6-de19-6957-8000-6d7b97fc11de'}}, tasks=(PregelTask(id='6972eb6f-89e7-dc1f-6865-eff5eebc3fa7', name='generate_joke', path=('__pregel_pull', 'generate_joke'), error=None, interrupts=(), state=None, result=None),), interrupts=()),\n",
              " StateSnapshot(values={'topic': 'Paris', 'joke': \"Why did the Eiffel Tower break up with Paris? Because it couldn't handle the long-distance relationship!\", 'explanation': 'The joke plays on the idea of the Eiffel Tower being in a relationship with the city of Paris due to their strong association. The punchline humorously suggests that the Eiffel Tower \"broke up\" with Paris because it couldn\\'t physically handle the distance as it is a prominent landmark in the city.'}, next=(), config={'configurable': {'thread_id': '2', 'checkpoint_ns': '', 'checkpoint_id': '1f072f5f-affa-62e1-8002-cea15d4a37c6'}}, metadata={'source': 'loop', 'step': 2, 'parents': {}}, created_at='2025-08-06T18:48:45.209648+00:00', parent_config={'configurable': {'thread_id': '2', 'checkpoint_ns': '', 'checkpoint_id': '1f072f5f-92e9-65b5-8001-008c6f33b2a2'}}, tasks=(), interrupts=()),\n",
              " StateSnapshot(values={'topic': 'Paris', 'joke': \"Why did the Eiffel Tower break up with Paris? Because it couldn't handle the long-distance relationship!\"}, next=('generate_explanation',), config={'configurable': {'thread_id': '2', 'checkpoint_ns': '', 'checkpoint_id': '1f072f5f-92e9-65b5-8001-008c6f33b2a2'}}, metadata={'source': 'loop', 'step': 1, 'parents': {}}, created_at='2025-08-06T18:48:42.161887+00:00', parent_config={'configurable': {'thread_id': '2', 'checkpoint_ns': '', 'checkpoint_id': '1f072ee6-de19-6957-8000-6d7b97fc11de'}}, tasks=(PregelTask(id='53cd60a5-8ae4-20a4-ee65-69f6b6273efe', name='generate_explanation', path=('__pregel_pull', 'generate_explanation'), error=None, interrupts=(), state=None, result={'explanation': 'The joke plays on the idea of the Eiffel Tower being in a relationship with the city of Paris due to their strong association. The punchline humorously suggests that the Eiffel Tower \"broke up\" with Paris because it couldn\\'t physically handle the distance as it is a prominent landmark in the city.'}),), interrupts=()),\n",
              " StateSnapshot(values={'topic': 'Paris', 'joke': \"Why did the French chef only use fresh ingredients in Paris? \\n\\nBecause he couldn't find thyme to kill!\", 'explanation': 'This joke is a play on words, combining the French word for time, \"temps,\" with the English word for the herb thyme. The chef in Paris only used fresh ingredients because he couldn\\'t find the time (thyme) to kill.'}, next=(), config={'configurable': {'thread_id': '2', 'checkpoint_ns': '', 'checkpoint_id': '1f072ee6-f28a-64c9-8002-16b94a716104'}}, metadata={'source': 'loop', 'step': 2, 'parents': {}}, created_at='2025-08-06T17:54:44.120257+00:00', parent_config={'configurable': {'thread_id': '2', 'checkpoint_ns': '', 'checkpoint_id': '1f072ee6-e8ea-67ab-8001-2481f16a1738'}}, tasks=(), interrupts=()),\n",
              " StateSnapshot(values={'topic': 'Paris', 'joke': \"Why did the French chef only use fresh ingredients in Paris? \\n\\nBecause he couldn't find thyme to kill!\"}, next=('generate_explanation',), config={'configurable': {'thread_id': '2', 'checkpoint_ns': '', 'checkpoint_id': '1f072ee6-e8ea-67ab-8001-2481f16a1738'}}, metadata={'source': 'loop', 'step': 1, 'parents': {}}, created_at='2025-08-06T17:54:43.111079+00:00', parent_config={'configurable': {'thread_id': '2', 'checkpoint_ns': '', 'checkpoint_id': '1f072ee6-de19-6957-8000-6d7b97fc11de'}}, tasks=(PregelTask(id='bb045b8b-346d-3660-ab91-e3e2435803b0', name='generate_explanation', path=('__pregel_pull', 'generate_explanation'), error=None, interrupts=(), state=None, result={'explanation': 'This joke is a play on words, combining the French word for time, \"temps,\" with the English word for the herb thyme. The chef in Paris only used fresh ingredients because he couldn\\'t find the time (thyme) to kill.'}),), interrupts=()),\n",
              " StateSnapshot(values={'topic': 'Paris'}, next=('generate_joke',), config={'configurable': {'thread_id': '2', 'checkpoint_ns': '', 'checkpoint_id': '1f072ee6-de19-6957-8000-6d7b97fc11de'}}, metadata={'source': 'loop', 'step': 0, 'parents': {}}, created_at='2025-08-06T17:54:41.976947+00:00', parent_config={'configurable': {'thread_id': '2', 'checkpoint_ns': '', 'checkpoint_id': '1f072ee6-de16-6054-bfff-40267f49ffcc'}}, tasks=(PregelTask(id='9c454bbf-12d1-6c9e-c2fb-cd0358ccdb16', name='generate_joke', path=('__pregel_pull', 'generate_joke'), error=None, interrupts=(), state=None, result={'joke': \"Why did the French chef only use fresh ingredients in Paris? \\n\\nBecause he couldn't find thyme to kill!\"}),), interrupts=()),\n",
              " StateSnapshot(values={}, next=('__start__',), config={'configurable': {'thread_id': '2', 'checkpoint_ns': '', 'checkpoint_id': '1f072ee6-de16-6054-bfff-40267f49ffcc'}}, metadata={'source': 'input', 'step': -1, 'parents': {}}, created_at='2025-08-06T17:54:41.975498+00:00', parent_config=None, tasks=(PregelTask(id='f62e5651-a5aa-be23-248a-c574dfd56728', name='__start__', path=('__pregel_pull', '__start__'), error=None, interrupts=(), state=None, result={'topic': 'Paris'}),), interrupts=())]"
            ]
          },
          "metadata": {},
          "execution_count": 46
        }
      ]
    },
    {
      "cell_type": "code",
      "source": [
        "workflow.invoke(None, config = {'configurable':{'thread_id':'2', 'checkpoint_id':'1f072f81-584c-6416-8001-6f091248a0a4'}})"
      ],
      "metadata": {
        "colab": {
          "base_uri": "https://localhost:8080/"
        },
        "id": "pc754nDBrsYS",
        "outputId": "c06e5af6-a41e-4853-94fb-2e513e2dbed8"
      },
      "execution_count": 47,
      "outputs": [
        {
          "output_type": "execute_result",
          "data": {
            "text/plain": [
              "{'topic': 'Bubble tea',\n",
              " 'joke': 'Why did the bubble tea blush? Because it saw the tapioca pearls at the bottom!',\n",
              " 'explanation': 'This joke plays on the idea of the bubble tea blushing (turning red) when it sees the tapioca pearls at the bottom, as if it is embarrassed or shy about them. It is a light-hearted and punny explanation for why the bubble tea appears to have changed color.'}"
            ]
          },
          "metadata": {},
          "execution_count": 47
        }
      ]
    },
    {
      "cell_type": "code",
      "source": [
        "list(workflow.get_state_history(config2))"
      ],
      "metadata": {
        "colab": {
          "base_uri": "https://localhost:8080/"
        },
        "id": "qv1FAMEArsWC",
        "outputId": "07d781ce-f152-4eb7-eb63-2d5678eb7ea4"
      },
      "execution_count": 48,
      "outputs": [
        {
          "output_type": "execute_result",
          "data": {
            "text/plain": [
              "[StateSnapshot(values={'topic': 'Bubble tea', 'joke': 'Why did the bubble tea blush? Because it saw the tapioca pearls at the bottom!', 'explanation': 'This joke plays on the idea of the bubble tea blushing (turning red) when it sees the tapioca pearls at the bottom, as if it is embarrassed or shy about them. It is a light-hearted and punny explanation for why the bubble tea appears to have changed color.'}, next=(), config={'configurable': {'thread_id': '2', 'checkpoint_ns': '', 'checkpoint_id': '1f072f88-dd01-6631-8003-6b3cd6e81fdb'}}, metadata={'source': 'loop', 'step': 3, 'parents': {}}, created_at='2025-08-06T19:07:10.516561+00:00', parent_config={'configurable': {'thread_id': '2', 'checkpoint_ns': '', 'checkpoint_id': '1f072f88-d336-6b80-8002-73fea46fa43d'}}, tasks=(), interrupts=()),\n",
              " StateSnapshot(values={'topic': 'Bubble tea', 'joke': 'Why did the bubble tea blush? Because it saw the tapioca pearls at the bottom!'}, next=('generate_explanation',), config={'configurable': {'thread_id': '2', 'checkpoint_ns': '', 'checkpoint_id': '1f072f88-d336-6b80-8002-73fea46fa43d'}}, metadata={'source': 'loop', 'step': 2, 'parents': {}}, created_at='2025-08-06T19:07:09.489829+00:00', parent_config={'configurable': {'thread_id': '2', 'checkpoint_ns': '', 'checkpoint_id': '1f072f81-584c-6416-8001-6f091248a0a4'}}, tasks=(PregelTask(id='040f01dc-1fa4-2b01-fc93-4bac16c08147', name='generate_explanation', path=('__pregel_pull', 'generate_explanation'), error=None, interrupts=(), state=None, result={'explanation': 'This joke plays on the idea of the bubble tea blushing (turning red) when it sees the tapioca pearls at the bottom, as if it is embarrassed or shy about them. It is a light-hearted and punny explanation for why the bubble tea appears to have changed color.'}),), interrupts=()),\n",
              " StateSnapshot(values={'topic': 'Bubble tea'}, next=('generate_joke',), config={'configurable': {'thread_id': '2', 'checkpoint_ns': '', 'checkpoint_id': '1f072f81-584c-6416-8001-6f091248a0a4'}}, metadata={'source': 'update', 'step': 1, 'parents': {}}, created_at='2025-08-06T19:03:48.696353+00:00', parent_config={'configurable': {'thread_id': '2', 'checkpoint_ns': '', 'checkpoint_id': '1f072ee6-de19-6957-8000-6d7b97fc11de'}}, tasks=(PregelTask(id='49f09da1-0c11-adef-5b2a-caf154c5cd1f', name='generate_joke', path=('__pregel_pull', 'generate_joke'), error=None, interrupts=(), state=None, result={'joke': 'Why did the bubble tea blush? Because it saw the tapioca pearls at the bottom!'}),), interrupts=()),\n",
              " StateSnapshot(values={'topic': 'samosa'}, next=('generate_joke',), config={'configurable': {'thread_id': '2', 'checkpoint_ns': '', 'checkpoint_id': '1f072f7f-4c89-6c77-8001-25e7862d81e0'}}, metadata={'source': 'update', 'step': 1, 'parents': {}}, created_at='2025-08-06T19:02:53.776173+00:00', parent_config={'configurable': {'thread_id': '2', 'checkpoint_ns': '', 'checkpoint_id': '1f072ee6-de19-6957-8000-6d7b97fc11de'}}, tasks=(PregelTask(id='6972eb6f-89e7-dc1f-6865-eff5eebc3fa7', name='generate_joke', path=('__pregel_pull', 'generate_joke'), error=None, interrupts=(), state=None, result=None),), interrupts=()),\n",
              " StateSnapshot(values={'topic': 'Paris', 'joke': \"Why did the Eiffel Tower break up with Paris? Because it couldn't handle the long-distance relationship!\", 'explanation': 'The joke plays on the idea of the Eiffel Tower being in a relationship with the city of Paris due to their strong association. The punchline humorously suggests that the Eiffel Tower \"broke up\" with Paris because it couldn\\'t physically handle the distance as it is a prominent landmark in the city.'}, next=(), config={'configurable': {'thread_id': '2', 'checkpoint_ns': '', 'checkpoint_id': '1f072f5f-affa-62e1-8002-cea15d4a37c6'}}, metadata={'source': 'loop', 'step': 2, 'parents': {}}, created_at='2025-08-06T18:48:45.209648+00:00', parent_config={'configurable': {'thread_id': '2', 'checkpoint_ns': '', 'checkpoint_id': '1f072f5f-92e9-65b5-8001-008c6f33b2a2'}}, tasks=(), interrupts=()),\n",
              " StateSnapshot(values={'topic': 'Paris', 'joke': \"Why did the Eiffel Tower break up with Paris? Because it couldn't handle the long-distance relationship!\"}, next=('generate_explanation',), config={'configurable': {'thread_id': '2', 'checkpoint_ns': '', 'checkpoint_id': '1f072f5f-92e9-65b5-8001-008c6f33b2a2'}}, metadata={'source': 'loop', 'step': 1, 'parents': {}}, created_at='2025-08-06T18:48:42.161887+00:00', parent_config={'configurable': {'thread_id': '2', 'checkpoint_ns': '', 'checkpoint_id': '1f072ee6-de19-6957-8000-6d7b97fc11de'}}, tasks=(PregelTask(id='53cd60a5-8ae4-20a4-ee65-69f6b6273efe', name='generate_explanation', path=('__pregel_pull', 'generate_explanation'), error=None, interrupts=(), state=None, result={'explanation': 'The joke plays on the idea of the Eiffel Tower being in a relationship with the city of Paris due to their strong association. The punchline humorously suggests that the Eiffel Tower \"broke up\" with Paris because it couldn\\'t physically handle the distance as it is a prominent landmark in the city.'}),), interrupts=()),\n",
              " StateSnapshot(values={'topic': 'Paris', 'joke': \"Why did the French chef only use fresh ingredients in Paris? \\n\\nBecause he couldn't find thyme to kill!\", 'explanation': 'This joke is a play on words, combining the French word for time, \"temps,\" with the English word for the herb thyme. The chef in Paris only used fresh ingredients because he couldn\\'t find the time (thyme) to kill.'}, next=(), config={'configurable': {'thread_id': '2', 'checkpoint_ns': '', 'checkpoint_id': '1f072ee6-f28a-64c9-8002-16b94a716104'}}, metadata={'source': 'loop', 'step': 2, 'parents': {}}, created_at='2025-08-06T17:54:44.120257+00:00', parent_config={'configurable': {'thread_id': '2', 'checkpoint_ns': '', 'checkpoint_id': '1f072ee6-e8ea-67ab-8001-2481f16a1738'}}, tasks=(), interrupts=()),\n",
              " StateSnapshot(values={'topic': 'Paris', 'joke': \"Why did the French chef only use fresh ingredients in Paris? \\n\\nBecause he couldn't find thyme to kill!\"}, next=('generate_explanation',), config={'configurable': {'thread_id': '2', 'checkpoint_ns': '', 'checkpoint_id': '1f072ee6-e8ea-67ab-8001-2481f16a1738'}}, metadata={'source': 'loop', 'step': 1, 'parents': {}}, created_at='2025-08-06T17:54:43.111079+00:00', parent_config={'configurable': {'thread_id': '2', 'checkpoint_ns': '', 'checkpoint_id': '1f072ee6-de19-6957-8000-6d7b97fc11de'}}, tasks=(PregelTask(id='bb045b8b-346d-3660-ab91-e3e2435803b0', name='generate_explanation', path=('__pregel_pull', 'generate_explanation'), error=None, interrupts=(), state=None, result={'explanation': 'This joke is a play on words, combining the French word for time, \"temps,\" with the English word for the herb thyme. The chef in Paris only used fresh ingredients because he couldn\\'t find the time (thyme) to kill.'}),), interrupts=()),\n",
              " StateSnapshot(values={'topic': 'Paris'}, next=('generate_joke',), config={'configurable': {'thread_id': '2', 'checkpoint_ns': '', 'checkpoint_id': '1f072ee6-de19-6957-8000-6d7b97fc11de'}}, metadata={'source': 'loop', 'step': 0, 'parents': {}}, created_at='2025-08-06T17:54:41.976947+00:00', parent_config={'configurable': {'thread_id': '2', 'checkpoint_ns': '', 'checkpoint_id': '1f072ee6-de16-6054-bfff-40267f49ffcc'}}, tasks=(PregelTask(id='9c454bbf-12d1-6c9e-c2fb-cd0358ccdb16', name='generate_joke', path=('__pregel_pull', 'generate_joke'), error=None, interrupts=(), state=None, result={'joke': \"Why did the French chef only use fresh ingredients in Paris? \\n\\nBecause he couldn't find thyme to kill!\"}),), interrupts=()),\n",
              " StateSnapshot(values={}, next=('__start__',), config={'configurable': {'thread_id': '2', 'checkpoint_ns': '', 'checkpoint_id': '1f072ee6-de16-6054-bfff-40267f49ffcc'}}, metadata={'source': 'input', 'step': -1, 'parents': {}}, created_at='2025-08-06T17:54:41.975498+00:00', parent_config=None, tasks=(PregelTask(id='f62e5651-a5aa-be23-248a-c574dfd56728', name='__start__', path=('__pregel_pull', '__start__'), error=None, interrupts=(), state=None, result={'topic': 'Paris'}),), interrupts=())]"
            ]
          },
          "metadata": {},
          "execution_count": 48
        }
      ]
    }
  ]
}