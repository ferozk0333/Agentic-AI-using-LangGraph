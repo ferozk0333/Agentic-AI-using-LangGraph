{
  "nbformat": 4,
  "nbformat_minor": 0,
  "metadata": {
    "colab": {
      "provenance": []
    },
    "kernelspec": {
      "name": "python3",
      "display_name": "Python 3"
    },
    "language_info": {
      "name": "python"
    }
  },
  "cells": [
    {
      "cell_type": "code",
      "execution_count": 40,
      "metadata": {
        "id": "aeXgMys4z6Y4"
      },
      "outputs": [],
      "source": [
        "from langgraph.graph import StateGraph, START, END\n",
        "from typing import TypedDict, Annotated, List\n",
        "from langchain_core.messages import BaseMessage, HumanMessage\n",
        "from langchain_openai import ChatOpenAI\n",
        "from pydantic import Field\n",
        "from langgraph.graph.message import add_messages   # Special reducer function built into langgraph\n",
        "from langgraph.checkpoint.memory import MemorySaver  # RAM Memory to save conversations"
      ]
    },
    {
      "cell_type": "code",
      "source": [
        "# Define State\n",
        "class ChatState(TypedDict):\n",
        "\n",
        "  messages: Annotated[List[BaseMessage], add_messages]    # Reducer function"
      ],
      "metadata": {
        "id": "2Y-Up_ukz7SR"
      },
      "execution_count": 13,
      "outputs": []
    },
    {
      "cell_type": "code",
      "source": [
        "from google.colab import userdata\n",
        "api_key = userdata.get('OPEN_AI')"
      ],
      "metadata": {
        "id": "6QHsOSx6_VAP"
      },
      "execution_count": 15,
      "outputs": []
    },
    {
      "cell_type": "code",
      "source": [
        "# Defining nodes\n",
        "llm = ChatOpenAI(api_key=api_key)\n",
        "\n",
        "def chat_node(state : ChatState):\n",
        "  # Take user query from state\n",
        "  messages = state['messages']\n",
        "  # Send to LLM\n",
        "  response = llm.invoke(messages)\n",
        "  # Response store in state\n",
        "  return {'messages':[response]}"
      ],
      "metadata": {
        "id": "_ZpgwtKo-QAz"
      },
      "execution_count": 17,
      "outputs": []
    },
    {
      "cell_type": "code",
      "source": [
        "checkpointer = MemorySaver()\n",
        "\n",
        "graph = StateGraph(ChatState)\n",
        "\n",
        "graph.add_node('chat_node', chat_node)\n",
        "\n",
        "graph.add_edge(START, 'chat_node')\n",
        "graph.add_edge('chat_node', END)\n",
        "\n",
        "chatbot = graph.compile(checkpointer=checkpointer)"
      ],
      "metadata": {
        "id": "2NqjuqUtz7Ng"
      },
      "execution_count": 42,
      "outputs": []
    },
    {
      "cell_type": "code",
      "source": [
        "# Chatbot interaction loop\n",
        "thread_id = '1' # Unique identifier for the conversation thread\n",
        "\n",
        "# Start an infinite loop for continuous interaction\n",
        "while True:\n",
        "  # Prompt the user for input\n",
        "  user_message = input('Type here: ')\n",
        "\n",
        "  # Check if the user wants to exit the conversation\n",
        "  if user_message.strip().lower() in ['bye', 'exit']:\n",
        "    break\n",
        "\n",
        "  # Configure the chatbot with the current thread ID for memory\n",
        "  config = {'configurable': {'thread_id': thread_id}}\n",
        "\n",
        "\n",
        "  response = chatbot.invoke({'messages': HumanMessage(content = user_message)}, config=config)\n",
        "\n",
        "  print(response['messages'][-1].content)"
      ],
      "metadata": {
        "colab": {
          "base_uri": "https://localhost:8080/"
        },
        "id": "gzar8opkMOcQ",
        "outputId": "30f244cb-2717-4297-cfb3-971fd0b3a930"
      },
      "execution_count": 44,
      "outputs": [
        {
          "name": "stdout",
          "output_type": "stream",
          "text": [
            "Type here: What is the capital of France?\n",
            "The capital of France is Paris.\n",
            "Type here: Tell me something special about it\n",
            "Paris is often called the \"City of Light\" because it was one of the first cities in the world to have street lighting on a grand scale. The nickname also refers to Paris' role as a center of education and ideas during the Age of Enlightenment in the 18th century. Today, Paris is known for its iconic landmarks such as the Eiffel Tower, Notre-Dame Cathedral, and Louvre Museum, as well as its rich artistic and cultural history.\n",
            "Type here: exit\n"
          ]
        }
      ]
    },
    {
      "cell_type": "code",
      "source": [
        "# Chatbot -  Simple intuition without memory\n",
        "initial_state = {\n",
        "    'messages': []\n",
        "}\n",
        "\n",
        "\n",
        "while True:\n",
        "  user_message = input(\"Type Here: \")\n",
        "\n",
        "  if user_message.strip().lower() in ['exit', 'bye', 'quit']:\n",
        "    break\n",
        "\n",
        "  initial_state['messages'].append(HumanMessage(content = user_message))\n",
        "  initial_state = chatbot.invoke(initial_state)\n",
        "  print(initial_state['messages'][-1].content)"
      ],
      "metadata": {
        "colab": {
          "base_uri": "https://localhost:8080/"
        },
        "id": "D4h7cbRxB9jh",
        "outputId": "514d5857-9f11-46ee-e681-a2cd2c08ab1b"
      },
      "execution_count": 37,
      "outputs": [
        {
          "name": "stdout",
          "output_type": "stream",
          "text": [
            "Type Here: Hi, my name is Feroz\n",
            "Hello Feroz, nice to meet you! How can I assist you today?\n",
            "Type Here: Can you tell me my name?\n",
            "Yes, your name is Feroz.\n",
            "Type Here: I  love to eat icecream\n",
            "That's great, ice cream is a delicious treat! What is your favorite flavor of ice cream?\n",
            "Type Here: I am 27 years old\n",
            "That's nice to know. Is there anything else you would like to share or ask about?\n",
            "Type Here: what do you knwo about me?\n",
            "I only know the information that you have shared with me, such as your name being Feroz and that you are 27 years old. I do not have access to any personal information about you other than what you provide during our conversation. Is there anything specific you would like to know or discuss?\n",
            "Type Here: add 10 to 10\n",
            "10 + 10 equals 20.\n",
            "Type Here: add 15\n",
            "15 to what?\n",
            "Type Here: the earlier result\n",
            "Adding 15 to the earlier result of 20 gives us a total of 35.\n",
            "Type Here: bye\n"
          ]
        }
      ]
    },
    {
      "cell_type": "code",
      "source": [
        "# Persistance in LangGraph - Memory\n"
      ],
      "metadata": {
        "id": "zvECm161B9g2"
      },
      "execution_count": 39,
      "outputs": []
    },
    {
      "cell_type": "code",
      "source": [],
      "metadata": {
        "id": "YtMyNPtuB9eK"
      },
      "execution_count": null,
      "outputs": []
    },
    {
      "cell_type": "code",
      "source": [],
      "metadata": {
        "id": "XrUvtWRfB9ba"
      },
      "execution_count": null,
      "outputs": []
    },
    {
      "cell_type": "code",
      "source": [],
      "metadata": {
        "id": "G-d6JcwuB9Y7"
      },
      "execution_count": null,
      "outputs": []
    },
    {
      "cell_type": "code",
      "source": [],
      "metadata": {
        "id": "xmftfeB-B9WI"
      },
      "execution_count": null,
      "outputs": []
    },
    {
      "cell_type": "code",
      "source": [],
      "metadata": {
        "id": "S-KDpI7hB9Ty"
      },
      "execution_count": null,
      "outputs": []
    },
    {
      "cell_type": "code",
      "source": [],
      "metadata": {
        "id": "R1_Sm9nrB9Rm"
      },
      "execution_count": null,
      "outputs": []
    },
    {
      "cell_type": "code",
      "source": [],
      "metadata": {
        "id": "Mm3kT7w5B9Ow"
      },
      "execution_count": null,
      "outputs": []
    },
    {
      "cell_type": "code",
      "source": [],
      "metadata": {
        "id": "kshAnqoTB9L9"
      },
      "execution_count": null,
      "outputs": []
    },
    {
      "cell_type": "code",
      "source": [],
      "metadata": {
        "id": "ETjdDHXcB9Ja"
      },
      "execution_count": null,
      "outputs": []
    },
    {
      "cell_type": "code",
      "source": [],
      "metadata": {
        "id": "PfUgz-mAB9Gt"
      },
      "execution_count": null,
      "outputs": []
    }
  ]
}